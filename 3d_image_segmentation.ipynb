{
  "nbformat": 4,
  "nbformat_minor": 0,
  "metadata": {
    "colab": {
      "name": "3d_image_segmentation.ipynb",
      "provenance": [],
      "toc_visible": true,
      "authorship_tag": "ABX9TyOscy6jBPsMZdK8puQuK9gf",
      "include_colab_link": true
    },
    "kernelspec": {
      "name": "python3",
      "display_name": "Python 3"
    },
    "language_info": {
      "name": "python"
    }
  },
  "cells": [
    {
      "cell_type": "markdown",
      "metadata": {
        "id": "view-in-github",
        "colab_type": "text"
      },
      "source": [
        "<a href=\"https://colab.research.google.com/github/kenanmorani/image_processing_idu/blob/main/3d_image_segmentation.ipynb\" target=\"_parent\"><img src=\"https://colab.research.google.com/assets/colab-badge.svg\" alt=\"Open In Colab\"/></a>"
      ]
    },
    {
      "cell_type": "markdown",
      "metadata": {
        "id": "_HH3oeWAkreO"
      },
      "source": [
        "* 3D IMage Segmentation using Slicing and 2D-UNET model\n",
        "* The model is trained on one image of the dataset at http://medicalsegmentation.com/covid19/  (Segmentation dataset nr. 2 (13th April):) using the fisrst image and mask provided.\n",
        "* The model should be test later on images obtained from other source.\n",
        "\n"
      ]
    },
    {
      "cell_type": "markdown",
      "metadata": {
        "id": "oL9xTWf6n4Z6"
      },
      "source": [
        "Importing required libraries"
      ]
    },
    {
      "cell_type": "code",
      "metadata": {
        "id": "cI_utHMlUyzc"
      },
      "source": [
        "import os, glob\n",
        "import numpy as np\n",
        "import matplotlib.pyplot as plt\n",
        "import cv2\n",
        "import nibabel as nib"
      ],
      "execution_count": 9,
      "outputs": []
    },
    {
      "cell_type": "code",
      "metadata": {
        "id": "jY1sTNJPU2Yu"
      },
      "source": [
        "import tensorflow as tf\n",
        "from tensorflow.keras.preprocessing.image import ImageDataGenerator \n",
        "from tensorflow import keras"
      ],
      "execution_count": 10,
      "outputs": []
    },
    {
      "cell_type": "code",
      "metadata": {
        "id": "nKj7BGJhVHkO"
      },
      "source": [
        "# Mounting my google drive\n",
        "from google.colab import drive"
      ],
      "execution_count": 11,
      "outputs": []
    },
    {
      "cell_type": "markdown",
      "metadata": {
        "id": "ugC0LhWTn_R9"
      },
      "source": [
        "Importing the images and the slices, which are presaved on my google drive and preparing google drive for output paths. "
      ]
    },
    {
      "cell_type": "code",
      "metadata": {
        "colab": {
          "base_uri": "https://localhost:8080/"
        },
        "id": "ObG828g8WArE",
        "outputId": "6ab3bbd1-da25-4730-ec8e-97d46ba94358"
      },
      "source": [
        "drive.mount('/content/gdrive')"
      ],
      "execution_count": 12,
      "outputs": [
        {
          "output_type": "stream",
          "text": [
            "Drive already mounted at /content/gdrive; to attempt to forcibly remount, call drive.mount(\"/content/gdrive\", force_remount=True).\n"
          ],
          "name": "stdout"
        }
      ]
    },
    {
      "cell_type": "markdown",
      "metadata": {
        "id": "_Xl2rTJwhss2"
      },
      "source": [
        "# Slicing and Saving"
      ]
    },
    {
      "cell_type": "code",
      "metadata": {
        "id": "f27kp1u-WZIn"
      },
      "source": [
        "# Adding the datapaths from my google drive\n",
        "dataInputPath = '/content/gdrive/MyDrive/Image Processing/data/volumes/'\n",
        "imagePathInput = os.path.join(dataInputPath, 'img/')\n",
        "maskPathInput = os.path.join(dataInputPath, 'mask/')"
      ],
      "execution_count": null,
      "outputs": []
    },
    {
      "cell_type": "code",
      "metadata": {
        "id": "HQVX6Rb5XTcx"
      },
      "source": [
        "dataOutputPath = '/content/gdrive/MyDrive/Image Processing/data/slices/'\n",
        "imageSliceOutput = os.path.join(dataOutputPath, 'img/')\n",
        "maskSliceOutput = os.path.join(dataOutputPath, 'mask/')"
      ],
      "execution_count": null,
      "outputs": []
    },
    {
      "cell_type": "code",
      "metadata": {
        "id": "EcdKbY8VXxJ6"
      },
      "source": [
        "# Choosing slicing directions for the 3D images (CT images)\n",
        "SLICE_X = True\n",
        "SLICE_Y = True\n",
        "SLICE_Z = False"
      ],
      "execution_count": null,
      "outputs": []
    },
    {
      "cell_type": "code",
      "metadata": {
        "id": "NhsyPwVDX0ex"
      },
      "source": [
        "SLICE_DECIMATE_IDENTIFIER = 3"
      ],
      "execution_count": null,
      "outputs": []
    },
    {
      "cell_type": "code",
      "metadata": {
        "colab": {
          "base_uri": "https://localhost:8080/"
        },
        "id": "FRpd8y5MX3Cm",
        "outputId": "d73f74ab-15e6-403d-a93c-2b26a0c13c8f"
      },
      "source": [
        "# Loading image to check max min Hounsfield units\n",
        "imgPath = os.path.join(imagePathInput, '1.nii')\n",
        "img = nib.load(imgPath).get_fdata()\n",
        "np.min(img), np.max(img), img.shape, type(img)"
      ],
      "execution_count": null,
      "outputs": [
        {
          "output_type": "execute_result",
          "data": {
            "text/plain": [
              "(-1414.765380859375, 212.7372589111328, (630, 630, 45), numpy.memmap)"
            ]
          },
          "metadata": {
            "tags": []
          },
          "execution_count": 165
        }
      ]
    },
    {
      "cell_type": "code",
      "metadata": {
        "colab": {
          "base_uri": "https://localhost:8080/"
        },
        "id": "s47y3R3GX7wK",
        "outputId": "2d44da57-d661-4f0e-8857-d6824b3e51cc"
      },
      "source": [
        "# Loading image mask to check max min Hounsfield units\n",
        "maskPath = os.path.join(maskPathInput, '1.nii')\n",
        "mask = nib.load(maskPath).get_fdata()\n",
        "np.min(mask), np.max(mask), mask.shape, type(mask)"
      ],
      "execution_count": null,
      "outputs": [
        {
          "output_type": "execute_result",
          "data": {
            "text/plain": [
              "(0.0, 2.0, (630, 630, 45), numpy.memmap)"
            ]
          },
          "metadata": {
            "tags": []
          },
          "execution_count": 166
        }
      ]
    },
    {
      "cell_type": "code",
      "metadata": {
        "colab": {
          "base_uri": "https://localhost:8080/",
          "height": 269
        },
        "id": "ra0mnmo7YARY",
        "outputId": "3fe430c5-bf77-449d-8920-647ebbcd98db"
      },
      "source": [
        "# Showing image slice\n",
        "imgSlice = mask[:,:,40]\n",
        "plt.imshow(imgSlice, cmap='gray')\n",
        "plt.show()"
      ],
      "execution_count": null,
      "outputs": [
        {
          "output_type": "display_data",
          "data": {
            "image/png": "[encoded data removed]",
            "text/plain": [
              "<Figure size 432x288 with 1 Axes>"
            ]
          },
          "metadata": {
            "tags": [],
            "needs_background": "light"
          }
        }
      ]
    },
    {
      "cell_type": "code",
      "metadata": {
        "id": "uBMM8ytPYF1h"
      },
      "source": [
        "# Choosing normalization boundaries suitable from the chosen images\n",
        "HOUNSFIELD_MIN = -1500\n",
        "HOUNSFIELD_MAX = 210\n",
        "HOUNSFIELD_RANGE = HOUNSFIELD_MAX - HOUNSFIELD_MIN"
      ],
      "execution_count": null,
      "outputs": []
    },
    {
      "cell_type": "code",
      "metadata": {
        "colab": {
          "base_uri": "https://localhost:8080/"
        },
        "id": "d3GX2jwcYJXo",
        "outputId": "c62e0e77-e782-4dc3-bb36-8ba81d40df94"
      },
      "source": [
        "# Normalizing the images\n",
        "def normalizeImageIntensityRange (img):\n",
        "    img[img < HOUNSFIELD_MIN] = HOUNSFIELD_MIN\n",
        "    img[img > HOUNSFIELD_MAX] = HOUNSFIELD_MAX\n",
        "    return (img - HOUNSFIELD_MIN) / HOUNSFIELD_RANGE\n",
        "\n",
        "nImg = normalizeImageIntensityRange(img)\n",
        "np.min(nImg), np.max(nImg), nImg.shape, type(nImg)"
      ],
      "execution_count": null,
      "outputs": [
        {
          "output_type": "execute_result",
          "data": {
            "text/plain": [
              "(0.04984480651498538, 1.0, (630, 630, 45), numpy.ndarray)"
            ]
          },
          "metadata": {
            "tags": []
          },
          "execution_count": 169
        }
      ]
    },
    {
      "cell_type": "code",
      "metadata": {
        "colab": {
          "base_uri": "https://localhost:8080/"
        },
        "id": "diLV5ZBjYNOF",
        "outputId": "75fe609f-4394-41b7-f076-b3ac281f657f"
      },
      "source": [
        "# Reading image or mask volume\n",
        "def readImageVolume(imgPath, normalize=False):\n",
        "    img = nib.load(imgPath).get_fdata()\n",
        "    if normalize:\n",
        "        return normalizeImageIntensityRange(img)\n",
        "    else:\n",
        "        return img\n",
        "    \n",
        "readImageVolume(imgPath, normalize=False)\n",
        "readImageVolume(maskPath, normalize=False)"
      ],
      "execution_count": null,
      "outputs": [
        {
          "output_type": "execute_result",
          "data": {
            "text/plain": [
              "memmap([[[0., 0., 0., ..., 0., 0., 0.],\n",
              "         [0., 0., 0., ..., 0., 0., 0.],\n",
              "         [0., 0., 0., ..., 0., 0., 0.],\n",
              "         ...,\n",
              "         [0., 0., 0., ..., 0., 0., 0.],\n",
              "         [0., 0., 0., ..., 0., 0., 0.],\n",
              "         [0., 0., 0., ..., 0., 0., 0.]],\n",
              "\n",
              "        [[0., 0., 0., ..., 0., 0., 0.],\n",
              "         [0., 0., 0., ..., 0., 0., 0.],\n",
              "         [0., 0., 0., ..., 0., 0., 0.],\n",
              "         ...,\n",
              "         [0., 0., 0., ..., 0., 0., 0.],\n",
              "         [0., 0., 0., ..., 0., 0., 0.],\n",
              "         [0., 0., 0., ..., 0., 0., 0.]],\n",
              "\n",
              "        [[0., 0., 0., ..., 0., 0., 0.],\n",
              "         [0., 0., 0., ..., 0., 0., 0.],\n",
              "         [0., 0., 0., ..., 0., 0., 0.],\n",
              "         ...,\n",
              "         [0., 0., 0., ..., 0., 0., 0.],\n",
              "         [0., 0., 0., ..., 0., 0., 0.],\n",
              "         [0., 0., 0., ..., 0., 0., 0.]],\n",
              "\n",
              "        ...,\n",
              "\n",
              "        [[0., 0., 0., ..., 0., 0., 0.],\n",
              "         [0., 0., 0., ..., 0., 0., 0.],\n",
              "         [0., 0., 0., ..., 0., 0., 0.],\n",
              "         ...,\n",
              "         [0., 0., 0., ..., 0., 0., 0.],\n",
              "         [0., 0., 0., ..., 0., 0., 0.],\n",
              "         [0., 0., 0., ..., 0., 0., 0.]],\n",
              "\n",
              "        [[0., 0., 0., ..., 0., 0., 0.],\n",
              "         [0., 0., 0., ..., 0., 0., 0.],\n",
              "         [0., 0., 0., ..., 0., 0., 0.],\n",
              "         ...,\n",
              "         [0., 0., 0., ..., 0., 0., 0.],\n",
              "         [0., 0., 0., ..., 0., 0., 0.],\n",
              "         [0., 0., 0., ..., 0., 0., 0.]],\n",
              "\n",
              "        [[0., 0., 0., ..., 0., 0., 0.],\n",
              "         [0., 0., 0., ..., 0., 0., 0.],\n",
              "         [0., 0., 0., ..., 0., 0., 0.],\n",
              "         ...,\n",
              "         [0., 0., 0., ..., 0., 0., 0.],\n",
              "         [0., 0., 0., ..., 0., 0., 0.],\n",
              "         [0., 0., 0., ..., 0., 0., 0.]]])"
            ]
          },
          "metadata": {
            "tags": []
          },
          "execution_count": 170
        }
      ]
    },
    {
      "cell_type": "code",
      "metadata": {
        "id": "edS6ZDY4YSGN"
      },
      "source": [
        "# Saving volume slices to file\n",
        "def saveSlice (img, fname, path):\n",
        "    img = np.uint8(img * 255)\n",
        "    fout = os.path.join(path, f'{fname}.png')\n",
        "    cv2.imwrite(fout, img)\n",
        "    print(f'[+] Slice saved: {fout}', end='\\r')"
      ],
      "execution_count": null,
      "outputs": []
    },
    {
      "cell_type": "code",
      "metadata": {
        "colab": {
          "base_uri": "https://localhost:8080/"
        },
        "id": "QnII_BthYYVY",
        "outputId": "656f09e8-675c-4a54-8bdc-fb479451bffb"
      },
      "source": [
        "saveSlice(img[20,:,:], 'test', imageSliceOutput)\n",
        "saveSlice(mask[20,:,:], 'test', maskSliceOutput)"
      ],
      "execution_count": null,
      "outputs": [
        {
          "output_type": "stream",
          "text": [
            "[+] Slice saved: /content/gdrive/MyDrive/Image Processing/data/slices/img/test.png\r[+] Slice saved: /content/gdrive/MyDrive/Image Processing/data/slices/mask/test.png\r"
          ],
          "name": "stdout"
        }
      ]
    },
    {
      "cell_type": "code",
      "metadata": {
        "id": "b8hmnUWUYdx-"
      },
      "source": [
        "# Slicing image in all directions and save\n",
        "def sliceAndSaveVolumeImage(vol, fname, path):\n",
        "    (dimx, dimy, dimz) = vol.shape\n",
        "    print(dimx, dimy, dimz)\n",
        "    cnt = 0\n",
        "    if SLICE_X:\n",
        "        cnt += dimx\n",
        "        print('Slicing X: ')\n",
        "        for i in range(dimx):\n",
        "            saveSlice(vol[i,:,:], fname+f'-slice{str(i).zfill(SLICE_DECIMATE_IDENTIFIER)}_x', path)\n",
        "            \n",
        "    if SLICE_Y:\n",
        "        cnt += dimy\n",
        "        print('Slicing Y: ')\n",
        "        for i in range(dimy):\n",
        "            saveSlice(vol[:,i,:], fname+f'-slice{str(i).zfill(SLICE_DECIMATE_IDENTIFIER)}_y', path)\n",
        "            \n",
        "    if SLICE_Z:\n",
        "        cnt += dimz\n",
        "        print('Slicing Z: ')\n",
        "        for i in range(dimz):\n",
        "            saveSlice(vol[:,:,i], fname+f'-slice{str(i).zfill(SLICE_DECIMATE_IDENTIFIER)}_z', path)\n",
        "    return cnt\n"
      ],
      "execution_count": null,
      "outputs": []
    },
    {
      "cell_type": "code",
      "metadata": {
        "colab": {
          "base_uri": "https://localhost:8080/"
        },
        "id": "4TZFgSwhYiwt",
        "outputId": "f855d5d3-0797-46c2-f373-96ea0d619bc7"
      },
      "source": [
        "# Reading and processing image volumes\n",
        "for index, filename in enumerate(sorted(glob.iglob(imagePathInput+'*.nii'))):\n",
        "    img = readImageVolume(filename, True)\n",
        "    print(filename, img.shape, np.sum(img.shape), np.min(img), np.max(img))\n",
        "    numOfSlices = sliceAndSaveVolumeImage(img, 't'+str(index), imageSliceOutput)\n",
        "    print(f'\\n{filename}, {numOfSlices} slices created \\n')"
      ],
      "execution_count": null,
      "outputs": [
        {
          "output_type": "stream",
          "text": [
            "/content/gdrive/MyDrive/Image Processing/data/volumes/img/1.nii (630, 630, 45) 1305 0.04984480651498538 1.0\n",
            "630 630 45\n",
            "Slicing X: \n",
            "Slicing Y: \n",
            "[+] Slice saved: /content/gdrive/MyDrive/Image Processing/data/slices/img/t0-slice629_y.png\n",
            "/content/gdrive/MyDrive/Image Processing/data/volumes/img/1.nii, 1260 slices created \n",
            "\n"
          ],
          "name": "stdout"
        }
      ]
    },
    {
      "cell_type": "code",
      "metadata": {
        "colab": {
          "base_uri": "https://localhost:8080/"
        },
        "id": "mEdYZ8AqYnlN",
        "outputId": "3069d409-0569-4e2e-81c9-090c1df3979e"
      },
      "source": [
        "# Reading and processing image mask volumes\n",
        "for index, filename in enumerate(sorted(glob.iglob(maskPathInput+'*.nii'))):\n",
        "    img = readImageVolume(filename, False)\n",
        "    print(filename, img.shape, np.sum(img.shape), np.min(img), np.max(img))\n",
        "    numOfSlices = sliceAndSaveVolumeImage(img, 't'+str(index), maskSliceOutput)\n",
        "    print(f'\\n{filename}, {numOfSlices} slices created \\n')"
      ],
      "execution_count": null,
      "outputs": [
        {
          "output_type": "stream",
          "text": [
            "/content/gdrive/MyDrive/Image Processing/data/volumes/mask/1.nii (630, 630, 45) 1305 0.0 2.0\n",
            "630 630 45\n",
            "Slicing X: \n",
            "Slicing Y: \n",
            "[+] Slice saved: /content/gdrive/MyDrive/Image Processing/data/slices/mask/t0-slice629_y.png\n",
            "/content/gdrive/MyDrive/Image Processing/data/volumes/mask/1.nii, 1260 slices created \n",
            "\n"
          ],
          "name": "stdout"
        }
      ]
    },
    {
      "cell_type": "markdown",
      "metadata": {
        "id": "IlIizQ6Uh1Bq"
      },
      "source": [
        "# Modelling"
      ]
    },
    {
      "cell_type": "markdown",
      "metadata": {
        "id": "3sjdqJu6oaad"
      },
      "source": [
        "* The slices done at the previous phase where rearanged in my google drive. The rearangement is as should in the code below under 'NEW PATHS'"
      ]
    },
    {
      "cell_type": "code",
      "metadata": {
        "id": "bALhmiZ0YuYv"
      },
      "source": [
        "# Defining constants\n",
        "SEED = 909\n",
        "BATCH_SIZE_TRAIN = 32\n",
        "# BATCH_SIZE_TEST = 32"
      ],
      "execution_count": 13,
      "outputs": []
    },
    {
      "cell_type": "code",
      "metadata": {
        "id": "j8kT3gpkY48b"
      },
      "source": [
        "IMAGE_HEIGHT = 240\n",
        "IMAGE_WIDTH = 240\n",
        "IMG_SIZE = (IMAGE_HEIGHT, IMAGE_WIDTH)"
      ],
      "execution_count": 14,
      "outputs": []
    },
    {
      "cell_type": "code",
      "metadata": {
        "id": "vMzPWJcXY8-t"
      },
      "source": [
        "# NEW PATHS That images should be at before running the follwoing steps are as shown in green\n",
        "data_dir = '/content/gdrive/MyDrive/Image Processing/data/slices/'\n",
        "data_dir_train = os.path.join(data_dir, 'training')\n",
        "# The images should be stored under: \"/content/gdrive/MyDrive/Image Processing/data/slices/training/img/img\"\n",
        "data_dir_train_image = os.path.join(data_dir_train, 'img')\n",
        "# The images should be stored under: \"/content/gdrive/MyDrive/Image Processing/data/slices/training/mask/img\"\n",
        "data_dir_train_mask = os.path.join(data_dir_train, 'mask')"
      ],
      "execution_count": 15,
      "outputs": []
    },
    {
      "cell_type": "code",
      "metadata": {
        "id": "gl8m8WAPbEaL"
      },
      "source": [
        "# NUmber of images for training \n",
        "NUM_TRAIN = 1261"
      ],
      "execution_count": 16,
      "outputs": []
    },
    {
      "cell_type": "code",
      "metadata": {
        "id": "maKdGp4UbIg0"
      },
      "source": [
        "# Number of epochs for modelling\n",
        "NUM_OF_EPOCHS = 60"
      ],
      "execution_count": 17,
      "outputs": []
    },
    {
      "cell_type": "code",
      "metadata": {
        "id": "g0U18ImxbLWJ"
      },
      "source": [
        "# Data augmentation - applying rescaling of the images\n",
        "def create_segmentation_generator_train(img_path, msk_path, BATCH_SIZE):\n",
        "    data_gen_args = dict(rescale=1./255)\n",
        "    img_datagen = ImageDataGenerator(**data_gen_args)\n",
        "    msk_datagen = ImageDataGenerator(**data_gen_args)\n",
        "    img_generator = img_datagen.flow_from_directory(img_path, class_mode=None, color_mode='grayscale', batch_size=BATCH_SIZE, seed=SEED, target_size=IMG_SIZE)\n",
        "    mask_generator = img_datagen.flow_from_directory(msk_path, class_mode=None, color_mode='grayscale', batch_size=BATCH_SIZE, seed=SEED, target_size=IMG_SIZE)\n",
        "    return zip(img_generator, mask_generator)"
      ],
      "execution_count": 18,
      "outputs": []
    },
    {
      "cell_type": "code",
      "metadata": {
        "colab": {
          "base_uri": "https://localhost:8080/"
        },
        "id": "8gf41Uk3bPLx",
        "outputId": "378842fb-eb8e-4c89-a261-2aeb0534ba21"
      },
      "source": [
        "train_generator = create_segmentation_generator_train(data_dir_train_image, data_dir_train_mask, BATCH_SIZE_TRAIN)    "
      ],
      "execution_count": 19,
      "outputs": [
        {
          "output_type": "stream",
          "text": [
            "Found 1261 images belonging to 1 classes.\n",
            "Found 1261 images belonging to 1 classes.\n"
          ],
          "name": "stdout"
        }
      ]
    },
    {
      "cell_type": "code",
      "metadata": {
        "id": "eTDEIjL-bSC_"
      },
      "source": [
        "def display(display_list):\n",
        "    title = ['Input Image', 'True Mask', 'Predicted Mask']\n",
        "    for i in range(len(display_list)):\n",
        "        plt.subplot(1, len(display_list), i+1)\n",
        "        plt.title(title[i])\n",
        "        plt.imshow(tf.keras.preprocessing.image.array_to_img(display_list[i]), cmap='gray')\n",
        "    plt.show()\n",
        "\n",
        "def show_dataset(datagen, num=1):\n",
        "    for i in range(0, num):\n",
        "        image,mask = next(datagen)\n",
        "        display((image[0], mask[0]))\n"
      ],
      "execution_count": 20,
      "outputs": []
    },
    {
      "cell_type": "code",
      "metadata": {
        "colab": {
          "base_uri": "https://localhost:8080/",
          "height": 415
        },
        "id": "BZbMuvCPc5aX",
        "outputId": "ee04d38a-d52d-4cf5-964a-5583a1a143f8"
      },
      "source": [
        "show_dataset(train_generator, 2)"
      ],
      "execution_count": 21,
      "outputs": [
        {
          "output_type": "display_data",
          "data": {
            "image/png": "[encoded data removed]",
            "text/plain": [
              "<Figure size 432x288 with 2 Axes>"
            ]
          },
          "metadata": {
            "tags": [],
            "needs_background": "light"
          }
        },
        {
          "output_type": "display_data",
          "data": {
            "image/png": "[encoded data removed]",
            "text/plain": [
              "<Figure size 432x288 with 2 Axes>"
            ]
          },
          "metadata": {
            "tags": [],
            "needs_background": "light"
          }
        }
      ]
    },
    {
      "cell_type": "code",
      "metadata": {
        "id": "dLB8S8x9c73B"
      },
      "source": [
        "# Building 2D-UNET model\n",
        "def unet(n_levels, initial_features=32, n_blocks=2, kernel_size=3, pooling_size=2, in_channels=1, out_channels=1):\n",
        "    inputs = keras.layers.Input(shape=(IMAGE_HEIGHT, IMAGE_WIDTH, in_channels))\n",
        "    x = inputs\n",
        "    \n",
        "    convpars = dict(kernel_size=kernel_size, activation='relu', padding='same')\n",
        "    \n",
        "    #downstream\n",
        "    skips = {}\n",
        "    for level in range(n_levels):\n",
        "        for _ in range(n_blocks):\n",
        "            x = keras.layers.Conv2D(initial_features * 2 ** level, **convpars)(x)\n",
        "        if level < n_levels - 1:\n",
        "            skips[level] = x\n",
        "            x = keras.layers.MaxPool2D(pooling_size)(x)\n",
        "            \n",
        "    # upstream\n",
        "    for level in reversed(range(n_levels-1)):\n",
        "        x = keras.layers.Conv2DTranspose(initial_features * 2 ** level, strides=pooling_size, **convpars)(x)\n",
        "        x = keras.layers.Concatenate()([x, skips[level]])\n",
        "        for _ in range(n_blocks):\n",
        "            x = keras.layers.Conv2D(initial_features * 2 ** level, **convpars)(x)\n",
        "            \n",
        "    # output\n",
        "    activation = 'sigmoid' if out_channels == 1 else 'softmax'\n",
        "    x = keras.layers.Conv2D(out_channels, kernel_size=1, activation=activation, padding='same')(x)\n",
        "    \n",
        "    return keras.Model(inputs=[inputs], outputs=[x], name=f'UNET-L{n_levels}-F{initial_features}')"
      ],
      "execution_count": 22,
      "outputs": []
    },
    {
      "cell_type": "code",
      "metadata": {
        "id": "SSnv8bb_l34r"
      },
      "source": [
        "EPOCH_STEP_TRAIN = NUM_TRAIN // BATCH_SIZE_TRAIN\n",
        "# Choosing optimizers and loss function for the model\n",
        "model = unet(4)\n",
        "model.compile(optimizer='adam', loss='binary_crossentropy', metrics=['accuracy'])"
      ],
      "execution_count": 23,
      "outputs": []
    },
    {
      "cell_type": "code",
      "metadata": {
        "colab": {
          "base_uri": "https://localhost:8080/"
        },
        "id": "UqijifXrmD-I",
        "outputId": "3393eff6-0cd1-4a39-d1fe-0945605a05eb"
      },
      "source": [
        "model.summary()"
      ],
      "execution_count": 24,
      "outputs": [
        {
          "output_type": "stream",
          "text": [
            "Model: \"UNET-L4-F32\"\n",
            "__________________________________________________________________________________________________\n",
            "Layer (type)                    Output Shape         Param #     Connected to                     \n",
            "==================================================================================================\n",
            "input_1 (InputLayer)            [(None, 240, 240, 1) 0                                            \n",
            "__________________________________________________________________________________________________\n",
            "conv2d (Conv2D)                 (None, 240, 240, 32) 320         input_1[0][0]                    \n",
            "__________________________________________________________________________________________________\n",
            "conv2d_1 (Conv2D)               (None, 240, 240, 32) 9248        conv2d[0][0]                     \n",
            "__________________________________________________________________________________________________\n",
            "max_pooling2d (MaxPooling2D)    (None, 120, 120, 32) 0           conv2d_1[0][0]                   \n",
            "__________________________________________________________________________________________________\n",
            "conv2d_2 (Conv2D)               (None, 120, 120, 64) 18496       max_pooling2d[0][0]              \n",
            "__________________________________________________________________________________________________\n",
            "conv2d_3 (Conv2D)               (None, 120, 120, 64) 36928       conv2d_2[0][0]                   \n",
            "__________________________________________________________________________________________________\n",
            "max_pooling2d_1 (MaxPooling2D)  (None, 60, 60, 64)   0           conv2d_3[0][0]                   \n",
            "__________________________________________________________________________________________________\n",
            "conv2d_4 (Conv2D)               (None, 60, 60, 128)  73856       max_pooling2d_1[0][0]            \n",
            "__________________________________________________________________________________________________\n",
            "conv2d_5 (Conv2D)               (None, 60, 60, 128)  147584      conv2d_4[0][0]                   \n",
            "__________________________________________________________________________________________________\n",
            "max_pooling2d_2 (MaxPooling2D)  (None, 30, 30, 128)  0           conv2d_5[0][0]                   \n",
            "__________________________________________________________________________________________________\n",
            "conv2d_6 (Conv2D)               (None, 30, 30, 256)  295168      max_pooling2d_2[0][0]            \n",
            "__________________________________________________________________________________________________\n",
            "conv2d_7 (Conv2D)               (None, 30, 30, 256)  590080      conv2d_6[0][0]                   \n",
            "__________________________________________________________________________________________________\n",
            "conv2d_transpose (Conv2DTranspo (None, 60, 60, 128)  295040      conv2d_7[0][0]                   \n",
            "__________________________________________________________________________________________________\n",
            "concatenate (Concatenate)       (None, 60, 60, 256)  0           conv2d_transpose[0][0]           \n",
            "                                                                 conv2d_5[0][0]                   \n",
            "__________________________________________________________________________________________________\n",
            "conv2d_8 (Conv2D)               (None, 60, 60, 128)  295040      concatenate[0][0]                \n",
            "__________________________________________________________________________________________________\n",
            "conv2d_9 (Conv2D)               (None, 60, 60, 128)  147584      conv2d_8[0][0]                   \n",
            "__________________________________________________________________________________________________\n",
            "conv2d_transpose_1 (Conv2DTrans (None, 120, 120, 64) 73792       conv2d_9[0][0]                   \n",
            "__________________________________________________________________________________________________\n",
            "concatenate_1 (Concatenate)     (None, 120, 120, 128 0           conv2d_transpose_1[0][0]         \n",
            "                                                                 conv2d_3[0][0]                   \n",
            "__________________________________________________________________________________________________\n",
            "conv2d_10 (Conv2D)              (None, 120, 120, 64) 73792       concatenate_1[0][0]              \n",
            "__________________________________________________________________________________________________\n",
            "conv2d_11 (Conv2D)              (None, 120, 120, 64) 36928       conv2d_10[0][0]                  \n",
            "__________________________________________________________________________________________________\n",
            "conv2d_transpose_2 (Conv2DTrans (None, 240, 240, 32) 18464       conv2d_11[0][0]                  \n",
            "__________________________________________________________________________________________________\n",
            "concatenate_2 (Concatenate)     (None, 240, 240, 64) 0           conv2d_transpose_2[0][0]         \n",
            "                                                                 conv2d_1[0][0]                   \n",
            "__________________________________________________________________________________________________\n",
            "conv2d_12 (Conv2D)              (None, 240, 240, 32) 18464       concatenate_2[0][0]              \n",
            "__________________________________________________________________________________________________\n",
            "conv2d_13 (Conv2D)              (None, 240, 240, 32) 9248        conv2d_12[0][0]                  \n",
            "__________________________________________________________________________________________________\n",
            "conv2d_14 (Conv2D)              (None, 240, 240, 1)  33          conv2d_13[0][0]                  \n",
            "==================================================================================================\n",
            "Total params: 2,140,065\n",
            "Trainable params: 2,140,065\n",
            "Non-trainable params: 0\n",
            "__________________________________________________________________________________________________\n"
          ],
          "name": "stdout"
        }
      ]
    },
    {
      "cell_type": "code",
      "metadata": {
        "colab": {
          "base_uri": "https://localhost:8080/"
        },
        "id": "qj6kMK5SmHfz",
        "outputId": "015c8ee5-418c-4598-9c03-08f9cc80dee6"
      },
      "source": [
        "# Fitting the 2D-UNET model\n",
        "model.fit_generator(generator=train_generator, \n",
        "                    steps_per_epoch=EPOCH_STEP_TRAIN, \n",
        "                    epochs=NUM_OF_EPOCHS)"
      ],
      "execution_count": null,
      "outputs": [
        {
          "output_type": "stream",
          "text": [
            "/usr/local/lib/python3.7/dist-packages/tensorflow/python/keras/engine/training.py:1844: UserWarning: `Model.fit_generator` is deprecated and will be removed in a future version. Please use `Model.fit`, which supports generators.\n",
            "  warnings.warn('`Model.fit_generator` is deprecated and '\n"
          ],
          "name": "stderr"
        },
        {
          "output_type": "stream",
          "text": [
            "Epoch 1/60\n",
            "39/39 [==============================] - 1614s 41s/step - loss: 0.3275 - accuracy: 0.9395\n",
            "Epoch 2/60\n",
            "39/39 [==============================] - 1604s 41s/step - loss: 0.0666 - accuracy: 0.9814\n",
            "Epoch 3/60\n",
            "39/39 [==============================] - 1656s 42s/step - loss: 0.0533 - accuracy: 0.9813\n",
            "Epoch 4/60\n",
            "39/39 [==============================] - 1613s 42s/step - loss: 0.0301 - accuracy: 0.9844\n",
            "Epoch 5/60\n",
            "39/39 [==============================] - 1629s 42s/step - loss: 0.0181 - accuracy: 0.9899\n",
            "Epoch 6/60\n",
            "39/39 [==============================] - 1638s 42s/step - loss: 0.0162 - accuracy: 0.9905\n",
            "Epoch 7/60\n",
            "39/39 [==============================] - 1621s 42s/step - loss: 0.0174 - accuracy: 0.9901\n",
            "Epoch 8/60\n",
            "39/39 [==============================] - 1625s 42s/step - loss: 0.0139 - accuracy: 0.9906\n",
            "Epoch 9/60\n",
            "39/39 [==============================] - 1624s 42s/step - loss: 0.0128 - accuracy: 0.9914\n",
            "Epoch 10/60\n",
            "39/39 [==============================] - 1629s 42s/step - loss: 0.0129 - accuracy: 0.9909\n",
            "Epoch 11/60\n",
            "39/39 [==============================] - 1631s 42s/step - loss: 0.0115 - accuracy: 0.9916\n",
            "Epoch 12/60\n",
            "39/39 [==============================] - 1628s 42s/step - loss: 0.0103 - accuracy: 0.9924\n",
            "Epoch 13/60\n",
            "39/39 [==============================] - 1625s 42s/step - loss: 0.0107 - accuracy: 0.9920\n",
            "Epoch 14/60\n",
            "34/39 [=========================>....] - ETA: 3:26 - loss: 0.0108 - accuracy: 0.9915"
          ],
          "name": "stdout"
        }
      ]
    }
  ]
}